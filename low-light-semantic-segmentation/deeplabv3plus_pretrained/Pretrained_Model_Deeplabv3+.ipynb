{
  "nbformat": 4,
  "nbformat_minor": 0,
  "metadata": {
    "colab": {
      "provenance": []
    },
    "kernelspec": {
      "name": "python3",
      "display_name": "Python 3"
    },
    "language_info": {
      "name": "python"
    },
    "gpuClass": "standard"
  },
  "cells": [
    {
      "cell_type": "code",
      "source": [
        "!git clone https://github.com/VainF/DeepLabV3Plus-Pytorch"
      ],
      "metadata": {
        "colab": {
          "base_uri": "https://localhost:8080/"
        },
        "id": "1vhDrGaVq5qv",
        "outputId": "7e4d3bb8-d3d6-4562-a657-2a49a66d6c19"
      },
      "execution_count": null,
      "outputs": [
        {
          "output_type": "stream",
          "name": "stdout",
          "text": [
            "Cloning into 'DeepLabV3Plus-Pytorch'...\n",
            "remote: Enumerating objects: 705, done.\u001b[K\n",
            "remote: Counting objects: 100% (52/52), done.\u001b[K\n",
            "remote: Compressing objects: 100% (43/43), done.\u001b[K\n",
            "remote: Total 705 (delta 25), reused 23 (delta 9), pack-reused 653\u001b[K\n",
            "Receiving objects: 100% (705/705), 8.26 MiB | 7.03 MiB/s, done.\n",
            "Resolving deltas: 100% (380/380), done.\n"
          ]
        }
      ]
    },
    {
      "cell_type": "code",
      "source": [
        "!pip install visdom"
      ],
      "metadata": {
        "colab": {
          "base_uri": "https://localhost:8080/"
        },
        "id": "SAZYh1COrvYL",
        "outputId": "b04c4773-6cb8-4646-ad05-5327ffaebf0e"
      },
      "execution_count": null,
      "outputs": [
        {
          "output_type": "stream",
          "name": "stdout",
          "text": [
            "Looking in indexes: https://pypi.org/simple, https://us-python.pkg.dev/colab-wheels/public/simple/\n",
            "Collecting visdom\n",
            "  Downloading visdom-0.2.3.tar.gz (1.4 MB)\n",
            "\u001b[K     |████████████████████████████████| 1.4 MB 33.6 MB/s \n",
            "\u001b[?25hRequirement already satisfied: numpy>=1.8 in /usr/local/lib/python3.8/dist-packages (from visdom) (1.21.6)\n",
            "Requirement already satisfied: scipy in /usr/local/lib/python3.8/dist-packages (from visdom) (1.7.3)\n",
            "Requirement already satisfied: requests in /usr/local/lib/python3.8/dist-packages (from visdom) (2.23.0)\n",
            "Requirement already satisfied: tornado in /usr/local/lib/python3.8/dist-packages (from visdom) (6.0.4)\n",
            "Requirement already satisfied: six in /usr/local/lib/python3.8/dist-packages (from visdom) (1.15.0)\n",
            "Collecting jsonpatch\n",
            "  Downloading jsonpatch-1.32-py2.py3-none-any.whl (12 kB)\n",
            "Collecting websocket-client\n",
            "  Downloading websocket_client-1.4.2-py3-none-any.whl (55 kB)\n",
            "\u001b[K     |████████████████████████████████| 55 kB 4.5 MB/s \n",
            "\u001b[?25hRequirement already satisfied: networkx in /usr/local/lib/python3.8/dist-packages (from visdom) (2.8.8)\n",
            "Requirement already satisfied: pillow in /usr/local/lib/python3.8/dist-packages (from visdom) (7.1.2)\n",
            "Collecting jsonpointer>=1.9\n",
            "  Downloading jsonpointer-2.3-py2.py3-none-any.whl (7.8 kB)\n",
            "Requirement already satisfied: certifi>=2017.4.17 in /usr/local/lib/python3.8/dist-packages (from requests->visdom) (2022.9.24)\n",
            "Requirement already satisfied: idna<3,>=2.5 in /usr/local/lib/python3.8/dist-packages (from requests->visdom) (2.10)\n",
            "Requirement already satisfied: chardet<4,>=3.0.2 in /usr/local/lib/python3.8/dist-packages (from requests->visdom) (3.0.4)\n",
            "Requirement already satisfied: urllib3!=1.25.0,!=1.25.1,<1.26,>=1.21.1 in /usr/local/lib/python3.8/dist-packages (from requests->visdom) (1.24.3)\n",
            "Building wheels for collected packages: visdom\n",
            "  Building wheel for visdom (setup.py) ... \u001b[?25l\u001b[?25hdone\n",
            "  Created wheel for visdom: filename=visdom-0.2.3-py3-none-any.whl size=1417107 sha256=14e64027f8898aea5b87bf2d57fc2ee4b29d9c5c5f815aaa0f3c02ffb04049a1\n",
            "  Stored in directory: /root/.cache/pip/wheels/4d/73/32/0bbe55d2dccb9d80d3f020f474c15a5a1eef232817dcebe776\n",
            "Successfully built visdom\n",
            "Installing collected packages: jsonpointer, websocket-client, jsonpatch, visdom\n",
            "Successfully installed jsonpatch-1.32 jsonpointer-2.3 visdom-0.2.3 websocket-client-1.4.2\n"
          ]
        }
      ]
    },
    {
      "cell_type": "code",
      "source": [
        "!python '/content/DeepLabV3Plus-Pytorch/predict.py' --input /content/drive/MyDrive/Dataset/Dark_Zurich_val_anon/rgb_anon/val/night/GOPR0356  --dataset cityscapes --model deeplabv3plus_mobilenet --ckpt /content/best_deeplabv3plus_mobilenet_cityscapes_os16.pth --save_val_results_to /content/test_results"
      ],
      "metadata": {
        "colab": {
          "base_uri": "https://localhost:8080/"
        },
        "id": "IRr5fhOdUXzW",
        "outputId": "62485469-7c34-4587-a4e2-deb1d244dc8e"
      },
      "execution_count": null,
      "outputs": [
        {
          "output_type": "stream",
          "name": "stdout",
          "text": [
            "Device: cuda\n",
            "Resume model from /content/best_deeplabv3plus_mobilenet_cityscapes_os16.pth\n",
            "100% 50/50 [01:08<00:00,  1.37s/it]\n"
          ]
        }
      ]
    },
    {
      "cell_type": "code",
      "source": [
        "import cv2\n",
        "import numpy as np\n",
        "from keras import backend as K\n",
        "\n",
        "def iou(pred1, pred2):\n",
        "  intersection = np.logical_and(pred1, pred2)\n",
        "  union = np.logical_or(pred1, pred2)\n",
        "  iou_score = np.sum(intersection) / np.sum(union)\n",
        "  return iou_score"
      ],
      "metadata": {
        "id": "D_TSi34pYndt"
      },
      "execution_count": null,
      "outputs": []
    },
    {
      "cell_type": "code",
      "source": [
        "def dice_coef(mask1, mask2, smooth=1):\n",
        "  mask1.squeeze()\n",
        "  mask2.squeeze\n",
        "  intersect = np.sum(mask1*mask2)\n",
        "  fsum = np.sum(mask1)\n",
        "  ssum = np.sum(mask2)\n",
        "  dice = (2 * intersect ) / (fsum + ssum)\n",
        "  dice = np.mean(dice)\n",
        "  dice = round(dice, 3) # for easy reading\n",
        "  return dice"
      ],
      "metadata": {
        "id": "AUojOvlri72x"
      },
      "execution_count": null,
      "outputs": []
    },
    {
      "cell_type": "code",
      "source": [
        "import os\n",
        "import cv2\n",
        "from statistics import mean\n",
        "from google.colab.patches import cv2_imshow\n",
        "\n",
        "night_pred_dir = '/content/drive/MyDrive/Dataset/Dark_Zurich_val_anon/night_pred'\n",
        "day_pred_dir = '/content/drive/MyDrive/Dataset/Dark_Zurich_val_anon/day_pred'\n",
        "true_imgs_dir = '/content/drive/MyDrive/Dataset/Dark_Zurich_val_anon/gt/val/night/GOPR0356/labeled'\n",
        "dice_coeffs_DvT = []\n",
        "dice_coeffs_NvT = []\n",
        "IoUs_DvT = []\n",
        "IoUs_NvT = []\n",
        "\n",
        "for images in os.listdir(day_pred_dir):\n",
        "    night_images = str(images)\n",
        "    night_images = night_images.replace(\"_ref\", \"\")\n",
        "    # check if the image ends with png\n",
        "    true_imgs = [filename for filename in os.listdir(true_imgs_dir) if filename.startswith(images[:-16])][0]\n",
        "    \n",
        "    day_pred = cv2.imread(os.path.join(day_pred_dir, images))\n",
        "    night_pred = cv2.imread(os.path.join(night_pred_dir, night_images))\n",
        "    true_imgs = cv2.imread(os.path.join(true_imgs_dir, true_imgs))\n",
        "\n",
        "    #dice_coeffs_DvT.append(dice_coef(day_pred, true_imgs))\n",
        "    #IoUs_DvT.append(iou(true_imgs, day_pred))\n",
        "\n",
        "    dice_coeffs_NvT.append(dice_coef(day_pred, night_pred))\n",
        "    IoUs_NvT.append(iou(day_pred, night_pred))\n",
        "print('Dice Coeff NvT : %s ' %mean(dice_coeffs_NvT))\n",
        "#print('Dice Coeff DvT : %s ' %mean(dice_coeffs_DvT))\n",
        "print('IoU NvT : %s ' %mean(IoUs_NvT))\n",
        "#print('IoU NvT : %s ' %mean(IoUs_DvT))"
      ],
      "metadata": {
        "colab": {
          "base_uri": "https://localhost:8080/"
        },
        "id": "Rwwks2TNtRvL",
        "outputId": "5b9df40e-c2e8-4e72-93b3-de28acf205ca"
      },
      "execution_count": null,
      "outputs": [
        {
          "output_type": "stream",
          "name": "stdout",
          "text": [
            "Dice Coeff NvT : 0.59718 \n",
            "IoU NvT : 0.9793993347827878 \n"
          ]
        }
      ]
    },
    {
      "cell_type": "code",
      "source": [
        "img = cv2.imread('/content/night_pred/GOPR0356_frame_000321_rgb_anon.png')#/content/day_pred/GOPR0356_frame_000321_ref_rgb_anon.png')\n",
        "print(np.unique(img.reshape(-1, img.shape[2]), axis=0))"
      ],
      "metadata": {
        "colab": {
          "base_uri": "https://localhost:8080/"
        },
        "id": "nAmTcspx4Jz-",
        "outputId": "0d513f8b-0b7d-4b4c-bfa8-d12cfaaec981"
      },
      "execution_count": null,
      "outputs": [
        {
          "output_type": "stream",
          "name": "stdout",
          "text": [
            "[[ 30 170 250]\n",
            " [ 32  11 119]\n",
            " [ 35 142 107]\n",
            " [ 70   0   0]\n",
            " [ 70  70  70]\n",
            " [128  64 128]\n",
            " [142   0   0]\n",
            " [152 251 152]\n",
            " [153 153 153]\n",
            " [153 153 190]\n",
            " [156 102 102]\n",
            " [232  35 244]]\n"
          ]
        }
      ]
    }
  ]
}